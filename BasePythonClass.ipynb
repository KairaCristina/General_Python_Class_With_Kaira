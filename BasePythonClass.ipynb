{
  "nbformat": 4,
  "nbformat_minor": 0,
  "metadata": {
    "colab": {
      "provenance": []
    },
    "kernelspec": {
      "name": "python3",
      "display_name": "Python 3"
    },
    "language_info": {
      "name": "python"
    }
  },
  "cells": [
    {
      "cell_type": "markdown",
      "source": [
        "# Aula Introdutória de Python no Colab\n",
        "### Objetivo: Introduzir conceitos básicos de Python com aplicações em análise de dados biológicos."
      ],
      "metadata": {
        "id": "jrEpr97k9xQB"
      }
    },
    {
      "cell_type": "markdown",
      "source": [
        "1. Introdução ao Colab"
      ],
      "metadata": {
        "id": "Q3uq5CrU-_xb"
      }
    },
    {
      "cell_type": "code",
      "execution_count": null,
      "metadata": {
        "colab": {
          "base_uri": "https://localhost:8080/"
        },
        "id": "Wu5ttJZM9NwW",
        "outputId": "7f119ed0-2f58-453e-e6f3-27dee6fdc806"
      },
      "outputs": [
        {
          "output_type": "stream",
          "name": "stdout",
          "text": [
            "Hello World!\n"
          ]
        }
      ],
      "source": [
        "print(\"Hello World!\")"
      ]
    },
    {
      "cell_type": "code",
      "source": [
        "print('Bem-vindo ao python')"
      ],
      "metadata": {
        "colab": {
          "base_uri": "https://localhost:8080/"
        },
        "id": "qeiluRtOtzY5",
        "outputId": "1354bece-ad8b-42f6-aacc-006f1efe91f7"
      },
      "execution_count": null,
      "outputs": [
        {
          "output_type": "stream",
          "name": "stdout",
          "text": [
            "Bem-vindo ao python\n"
          ]
        }
      ]
    },
    {
      "cell_type": "markdown",
      "source": [
        "2. Sintaxe Básica do Python\n",
        "\n",
        "* 2.1 Variáveis e Tipos de Dados"
      ],
      "metadata": {
        "id": "Jq8XlCdJ_B3b"
      }
    },
    {
      "cell_type": "code",
      "source": [
        "# Exemplos com dados biológicos\n",
        "gene = \"ATGCCGTA\"  # string (sequência de DNA)\n",
        "tamanho_amostra = 50  # int\n",
        "temperatura = 37.5  # float\n",
        "e_expresso = True  # booleano"
      ],
      "metadata": {
        "id": "x27QlRMy-Z7q"
      },
      "execution_count": null,
      "outputs": []
    },
    {
      "cell_type": "code",
      "source": [
        "# em duvida sobre qual variavel é :\n",
        "type(gene)"
      ],
      "metadata": {
        "colab": {
          "base_uri": "https://localhost:8080/"
        },
        "id": "Bt0-CI8p6vYZ",
        "outputId": "868e0f42-aa3c-4555-bae3-023b69aa0ba0"
      },
      "execution_count": null,
      "outputs": [
        {
          "output_type": "execute_result",
          "data": {
            "text/plain": [
              "list"
            ]
          },
          "metadata": {},
          "execution_count": 110
        }
      ]
    },
    {
      "cell_type": "code",
      "source": [
        "type(tamanho_amostra)"
      ],
      "metadata": {
        "colab": {
          "base_uri": "https://localhost:8080/"
        },
        "id": "C8GQRE8L7GGh",
        "outputId": "c104840d-6856-4bd6-853a-4acc09739558"
      },
      "execution_count": null,
      "outputs": [
        {
          "output_type": "execute_result",
          "data": {
            "text/plain": [
              "int"
            ]
          },
          "metadata": {},
          "execution_count": 112
        }
      ]
    },
    {
      "cell_type": "code",
      "source": [
        "type(temperatura)"
      ],
      "metadata": {
        "colab": {
          "base_uri": "https://localhost:8080/"
        },
        "id": "RcFXEihn7Mca",
        "outputId": "d99672d5-f926-4782-9f36-ab878d02a3d9"
      },
      "execution_count": null,
      "outputs": [
        {
          "output_type": "execute_result",
          "data": {
            "text/plain": [
              "float"
            ]
          },
          "metadata": {},
          "execution_count": 113
        }
      ]
    },
    {
      "cell_type": "markdown",
      "source": [
        "2.2 Operações Básicas"
      ],
      "metadata": {
        "id": "1KCwTBe__SDZ"
      }
    },
    {
      "cell_type": "code",
      "source": [
        "# Soma\n",
        "soma = 5 + 3\n",
        "print(\"5 + 3 =\", soma)  # Resultado: 8"
      ],
      "metadata": {
        "id": "dv4-jRAgtXDO"
      },
      "execution_count": null,
      "outputs": []
    },
    {
      "cell_type": "code",
      "source": [
        "# Subtração\n",
        "subtracao = 10 - 4\n",
        "print(\"10 - 4 =\", subtracao)  # Resultado: 6\n",
        "print(subtracao)"
      ],
      "metadata": {
        "colab": {
          "base_uri": "https://localhost:8080/"
        },
        "id": "nUrgwjHxtaxO",
        "outputId": "527a37d9-79f9-4703-9422-38d106fbda95"
      },
      "execution_count": null,
      "outputs": [
        {
          "output_type": "stream",
          "name": "stdout",
          "text": [
            "10 - 4 = 6\n",
            "6\n"
          ]
        }
      ]
    },
    {
      "cell_type": "code",
      "source": [
        "# Multiplicação\n",
        "multiplicacao = 6 * 7\n",
        "print(\"6 * 7 =\", multiplicacao)  # Resultado: 42"
      ],
      "metadata": {
        "colab": {
          "base_uri": "https://localhost:8080/"
        },
        "id": "b7wr1T1ftdFY",
        "outputId": "eb6c4e44-c454-4a19-8e3e-7dce5db570fd"
      },
      "execution_count": null,
      "outputs": [
        {
          "output_type": "stream",
          "name": "stdout",
          "text": [
            "6 * 7 = 42\n"
          ]
        }
      ]
    },
    {
      "cell_type": "code",
      "source": [
        "# Divisão\n",
        "divisao = 20 / 5\n",
        "print(\"20 / 5 =\", divisao)  # Resultado: 4.0"
      ],
      "metadata": {
        "colab": {
          "base_uri": "https://localhost:8080/"
        },
        "id": "ZBL6scTdtfbF",
        "outputId": "b67d8549-defd-4a7e-baa1-492494ee028e"
      },
      "execution_count": null,
      "outputs": [
        {
          "output_type": "stream",
          "name": "stdout",
          "text": [
            "20 / 5 = 4.0\n"
          ]
        }
      ]
    },
    {
      "cell_type": "code",
      "source": [
        "# Divisão inteira\n",
        "divisao_inteira = 20 // 6\n",
        "print(\"20 // 6 =\", divisao_inteira)  # Resultado: 3"
      ],
      "metadata": {
        "colab": {
          "base_uri": "https://localhost:8080/"
        },
        "id": "4x0wx-mkthqu",
        "outputId": "159c570e-b95b-4877-9021-caf9a2c1972f"
      },
      "execution_count": null,
      "outputs": [
        {
          "output_type": "stream",
          "name": "stdout",
          "text": [
            "20 // 6 = 3\n"
          ]
        }
      ]
    },
    {
      "cell_type": "code",
      "source": [
        "# Resto da divisão (módulo)\n",
        "resto = 20 % 6\n",
        "print(\"20 % 6 =\", resto)  # Resultado: 2"
      ],
      "metadata": {
        "colab": {
          "base_uri": "https://localhost:8080/"
        },
        "id": "Nz2MBO0ztj-i",
        "outputId": "b439b05f-1823-4b14-8c47-fe7ec2b13b7d"
      },
      "execution_count": null,
      "outputs": [
        {
          "output_type": "stream",
          "name": "stdout",
          "text": [
            "20 % 6 = 2\n"
          ]
        }
      ]
    },
    {
      "cell_type": "code",
      "source": [
        "# Potência\n",
        "potencia = 2 ** 8\n",
        "print(\"2 ** 8 =\", potencia)  # Resultado: 256"
      ],
      "metadata": {
        "colab": {
          "base_uri": "https://localhost:8080/"
        },
        "id": "KSuXyqgptmB7",
        "outputId": "a8e322a2-1a98-4db9-eb85-39719af92a03"
      },
      "execution_count": null,
      "outputs": [
        {
          "output_type": "stream",
          "name": "stdout",
          "text": [
            "2 ** 8 = 256\n"
          ]
        }
      ]
    },
    {
      "cell_type": "code",
      "source": [
        "# Cálculos simples (ex: concentração de DNA)\n",
        "quantidade_dna = 20 # ng\n",
        "volume_solucao = 50 #uL\n",
        "concentracao = quantidade_dna / volume_solucao\n",
        "print(concentracao) # ng/uL"
      ],
      "metadata": {
        "colab": {
          "base_uri": "https://localhost:8080/"
        },
        "id": "gi5rfL1X-ieH",
        "outputId": "c4bcd7d6-d52f-4c1f-f1a3-d51b8408d996"
      },
      "execution_count": null,
      "outputs": [
        {
          "output_type": "stream",
          "name": "stdout",
          "text": [
            "0.4\n"
          ]
        }
      ]
    },
    {
      "cell_type": "markdown",
      "source": [
        "2.3 Listas (útil para séries de dados)"
      ],
      "metadata": {
        "id": "-gCJcWnG_y_0"
      }
    },
    {
      "cell_type": "code",
      "source": [
        "# Exemplo: lista de contagens de células\n",
        "contagens = [120, 135, 98, 150]\n",
        "print(contagens[0])  # Acessar primeiro elemento\n",
        "print(contagens[-1])  # Acessar ultimo elemento"
      ],
      "metadata": {
        "colab": {
          "base_uri": "https://localhost:8080/"
        },
        "id": "3Vp8eWii_0ZN",
        "outputId": "2202bcb3-6b00-4cbd-ed59-2eb6edb6c036"
      },
      "execution_count": null,
      "outputs": [
        {
          "output_type": "stream",
          "name": "stdout",
          "text": [
            "120\n",
            "150\n"
          ]
        }
      ]
    },
    {
      "cell_type": "markdown",
      "source": [
        "3. Loop :\n",
        "if\n",
        "else\n",
        "for\n",
        "while:\n",
        "\n",
        "\n",
        "![image.png](data:image/png;base64,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)\n"
      ],
      "metadata": {
        "id": "_CMfV3w_GO3Q"
      }
    },
    {
      "cell_type": "code",
      "source": [
        "gene = ['APOE ', 'PSEN1', 'FAD', 'TBC1D4']\n",
        "for n in gene:\n",
        "    print('genes:', n)\n"
      ],
      "metadata": {
        "colab": {
          "base_uri": "https://localhost:8080/"
        },
        "id": "f-ZbaulbwjT3",
        "outputId": "d787f98f-554c-435a-98d0-6efbedd67fa6"
      },
      "execution_count": null,
      "outputs": [
        {
          "output_type": "stream",
          "name": "stdout",
          "text": [
            "genes: APOE \n",
            "genes: PSEN1\n",
            "genes: FAD\n",
            "genes: TBC1D4\n"
          ]
        }
      ]
    },
    {
      "cell_type": "code",
      "source": [
        "num = [1, 3, 5, 7, 9]\n",
        "sum = 0\n",
        "\n",
        "for i in num:\n",
        "    sum = sum + i\n",
        "print('The sum is:', sum)"
      ],
      "metadata": {
        "colab": {
          "base_uri": "https://localhost:8080/"
        },
        "id": "07HR61OkxnQ3",
        "outputId": "d0b2ff5b-28a1-4e4f-c855-8b5e5a21330b"
      },
      "execution_count": null,
      "outputs": [
        {
          "output_type": "stream",
          "name": "stdout",
          "text": [
            "The sum is: 25\n"
          ]
        }
      ]
    },
    {
      "cell_type": "code",
      "source": [
        "# Dados de OD (Densidade Óptica) de culturas bacterianas medidas a cada hora\n",
        "dados_od = [0.1, 0.3, 0.6, 0.9, 1.2, 1.5, 1.8, 2.1, 2.3]"
      ],
      "metadata": {
        "id": "zcq3aP8yHCEY"
      },
      "execution_count": null,
      "outputs": []
    },
    {
      "cell_type": "code",
      "source": [
        "# 1) USANDO FOR E IF: Identificar culturas que atingiram OD > 1.0 (limite de risco)\n",
        "print(\"Culturas em risco (OD > 1.0):\")\n",
        "for od in dados_od:\n",
        "    if od > 1.0:\n",
        "       # print(f\"OD = {od} - Risco de supercrescimento!\")\n",
        "       print(od)\n"
      ],
      "metadata": {
        "colab": {
          "base_uri": "https://localhost:8080/"
        },
        "id": "wZ1Aef4RGQw3",
        "outputId": "9b102bee-b93e-41c8-e180-5a9f0ccee0f0"
      },
      "execution_count": null,
      "outputs": [
        {
          "output_type": "stream",
          "name": "stdout",
          "text": [
            "Culturas em risco (OD > 1.0):\n",
            "1.2\n",
            "1.5\n",
            "1.8\n",
            "2.1\n",
            "2.3\n"
          ]
        }
      ]
    },
    {
      "cell_type": "code",
      "source": [
        "# 2) USANDO WHILE E BREAK: Simular monitoramento contínuo até atingir OD crítica\n",
        "print(\"\\nMonitoramento em tempo real:\")\n",
        "od_critico = 2.0\n",
        "tempo = 0\n",
        "while True:\n",
        "    od_atual = dados_od[tempo]  # Simula leitura a cada hora\n",
        "    print(f\"Hora {tempo}: OD = {od_atual}\")\n",
        "    if od_atual >= od_critico:\n",
        "        print(f\"ALERTA: OD crítica atingida na hora {tempo}!\")\n",
        "        break  # Interrompe o loop\n",
        "    tempo += 1\n"
      ],
      "metadata": {
        "colab": {
          "base_uri": "https://localhost:8080/"
        },
        "id": "nZOGIu7WGT-l",
        "outputId": "77f2bfc5-de90-435d-b820-73b0d9e7da18"
      },
      "execution_count": null,
      "outputs": [
        {
          "output_type": "stream",
          "name": "stdout",
          "text": [
            "\n",
            "Monitoramento em tempo real:\n",
            "Hora 0: OD = 0.1\n",
            "Hora 1: OD = 0.3\n",
            "Hora 2: OD = 0.6\n",
            "Hora 3: OD = 0.9\n",
            "Hora 4: OD = 1.2\n",
            "Hora 5: OD = 1.5\n",
            "Hora 6: OD = 1.8\n",
            "Hora 7: OD = 2.1\n",
            "ALERTA: OD crítica atingida na hora 7!\n"
          ]
        }
      ]
    },
    {
      "cell_type": "code",
      "source": [
        "# 3) USANDO ELSE NO FOR: Verificar se todas as culturas estão seguras\n",
        "print(\"\\nVerificação final:\")\n",
        "for od in dados_od:\n",
        "    if od > 2.5:\n",
        "        print(f\"OD = {od} - Contaminação detectada!\")\n",
        "        break\n",
        "else:\n",
        "\n",
        "    print(\"Todas as culturas dentro do limite seguro.\")"
      ],
      "metadata": {
        "colab": {
          "base_uri": "https://localhost:8080/"
        },
        "id": "pkv5lIRRGWpN",
        "outputId": "553b01a0-07c8-406d-d9d8-a92b60e92c8f"
      },
      "execution_count": null,
      "outputs": [
        {
          "output_type": "stream",
          "name": "stdout",
          "text": [
            "\n",
            "Verificação final:\n",
            "Todas as culturas dentro do limite seguro.\n"
          ]
        }
      ]
    },
    {
      "cell_type": "code",
      "source": [
        "# Dados de temperatura (°C) medidos a cada 5 minutos\n",
        "dados_temperatura = [25.1, 26.3, 27.0, 28.2, 24.9, 29.1, 23.8]\n",
        "\n",
        "print(\"\\nVerificação de temperatura:\")\n",
        "temperatura_limite = 30.0\n",
        "indice = 0\n",
        "\n",
        "# While percorre os dados SEM break (else sempre executa se não houver interrupção)\n",
        "while indice < len(dados_temperatura):\n",
        "    if dados_temperatura[indice] >= temperatura_limite:\n",
        "        print(f\"ALERTA: {dados_temperatura[indice]}°C na medição {indice}!\")\n",
        "        break  # Comente esta linha para ver o else em ação!\n",
        "    print(f\"Medição {indice}: {dados_temperatura[indice]}°C (OK)\")\n",
        "    indice += 1\n",
        "else:\n",
        "    print(\"Todas as medições dentro do limite seguro. Experimento validado!\")"
      ],
      "metadata": {
        "colab": {
          "base_uri": "https://localhost:8080/"
        },
        "id": "xgQv5aVyG8xj",
        "outputId": "59a93938-1a05-4f1e-b49b-3f10c3035fe8"
      },
      "execution_count": null,
      "outputs": [
        {
          "output_type": "stream",
          "name": "stdout",
          "text": [
            "\n",
            "Verificação de temperatura:\n",
            "Medição 0: 25.1°C (OK)\n",
            "Medição 1: 26.3°C (OK)\n",
            "Medição 2: 27.0°C (OK)\n",
            "Medição 3: 28.2°C (OK)\n",
            "Medição 4: 24.9°C (OK)\n",
            "Medição 5: 29.1°C (OK)\n",
            "Medição 6: 23.8°C (OK)\n",
            "Todas as medições dentro do limite seguro. Experimento validado!\n"
          ]
        }
      ]
    },
    {
      "cell_type": "markdown",
      "source": [
        "4. Função"
      ],
      "metadata": {
        "id": "FNpNPF5XLDX7"
      }
    },
    {
      "cell_type": "code",
      "source": [
        "def calcular_concentracao_dna(quantidade_dna, volume_solucao):\n",
        "    \"\"\"\n",
        "    Calcula a concentração de DNA (µg/µL) e verifica se os valores são válidos.\n",
        "\n",
        "    Args:\n",
        "        quantidade_dna (float): Quantidade de DNA em µg.\n",
        "        volume_solucao (float): Volume da solução em µL.\n",
        "\n",
        "    Returns:\n",
        "        float: Concentração em µg/µL, ou None se valores inválidos.\n",
        "    \"\"\"\n",
        "    if quantidade_dna <= 0 or volume_solucao <= 0:\n",
        "        print(\"Erro: Valores devem ser positivos!\")\n",
        "        return None\n",
        "    return quantidade_dna / volume_solucao"
      ],
      "metadata": {
        "id": "pqF4CL3jLk7c"
      },
      "execution_count": null,
      "outputs": []
    },
    {
      "cell_type": "code",
      "source": [
        "# Exemplo de uso:\n",
        "concentracao = calcular_concentracao_dna(50, 100)  # 50 µg em 100 µL\n",
        "print(f\"Concentração: {concentracao} µg/µL\")"
      ],
      "metadata": {
        "colab": {
          "base_uri": "https://localhost:8080/"
        },
        "id": "2wuyZmtu00YD",
        "outputId": "51b1c553-a694-4301-a99b-923a08ca1b69"
      },
      "execution_count": null,
      "outputs": [
        {
          "output_type": "stream",
          "name": "stdout",
          "text": [
            "Concentração: 0.5 µg/µL\n"
          ]
        }
      ]
    },
    {
      "cell_type": "code",
      "source": [
        "dna_e_coli = calcular_concentracao_dna(-0.5, 5)\n",
        "print(dna_e_coli)"
      ],
      "metadata": {
        "colab": {
          "base_uri": "https://localhost:8080/"
        },
        "id": "8YF2h3wj06nk",
        "outputId": "16ef103d-d920-49ca-e3db-7c6a7a4da5c4"
      },
      "execution_count": null,
      "outputs": [
        {
          "output_type": "stream",
          "name": "stdout",
          "text": [
            "Erro: Valores devem ser positivos!\n",
            "None\n"
          ]
        }
      ]
    },
    {
      "cell_type": "code",
      "source": [
        "dna_p_vivax = calcular_concentracao_dna(20, 50)\n",
        "print(dna_p_vivax)"
      ],
      "metadata": {
        "colab": {
          "base_uri": "https://localhost:8080/"
        },
        "id": "8s11uUIQ1-a1",
        "outputId": "6ab6d7d7-cf7c-4180-d2bb-905e417033db"
      },
      "execution_count": null,
      "outputs": [
        {
          "output_type": "stream",
          "name": "stdout",
          "text": [
            "0.4\n"
          ]
        }
      ]
    },
    {
      "cell_type": "markdown",
      "source": [
        "5. Bibliotecas\n",
        "\n",
        "5.1 Introdução ao NumPy e Pandas"
      ],
      "metadata": {
        "id": "lLlLFlfzAQeN"
      }
    },
    {
      "cell_type": "code",
      "source": [
        "import numpy as np\n",
        "import pandas as pd\n",
        "\n",
        "# Exemplo NumPy: calcular média e desvio padrão de dados experimentais\n",
        "dados_crescimento = np.array([1.2, 1.5, 1.3, 1.7])\n",
        "print(\"Média:\", np.mean(dados_crescimento))"
      ],
      "metadata": {
        "colab": {
          "base_uri": "https://localhost:8080/"
        },
        "id": "Eq_4muB3I0AJ",
        "outputId": "efaf6ad9-415c-4a78-ba52-f708b5bcd9c9"
      },
      "execution_count": null,
      "outputs": [
        {
          "output_type": "stream",
          "name": "stdout",
          "text": [
            "Média: 1.425\n"
          ]
        }
      ]
    },
    {
      "cell_type": "code",
      "source": [
        "# Exemplo Pandas: tabela de dados (ex: resultados de experimentos)\n",
        "dados = pd.DataFrame({\n",
        "    \"Tratamento\": [\"Controle\", \"Drug A\", \"Drug B\"],\n",
        "    \"Crescimento\": [1.2, 0.8, 1.5]\n",
        "})\n",
        "print(dados)"
      ],
      "metadata": {
        "colab": {
          "base_uri": "https://localhost:8080/"
        },
        "id": "Pd0WBOga2T94",
        "outputId": "9bab1d29-ad03-48d0-ec75-6dff38574d6c"
      },
      "execution_count": null,
      "outputs": [
        {
          "output_type": "stream",
          "name": "stdout",
          "text": [
            "  Tratamento  Crescimento\n",
            "0   Controle          1.2\n",
            "1     Drug A          0.8\n",
            "2     Drug B          1.5\n"
          ]
        }
      ]
    },
    {
      "cell_type": "code",
      "source": [
        "import matplotlib.pyplot as plt\n",
        "\n",
        "plt.bar(dados[\"Tratamento\"], dados[\"Crescimento\"])\n",
        "plt.title(\"Efeito de Tratamentos no Crescimento\")\n",
        "plt.show()"
      ],
      "metadata": {
        "colab": {
          "base_uri": "https://localhost:8080/",
          "height": 452
        },
        "id": "sRy-4w_UJHFN",
        "outputId": "77d33696-ca88-48f7-fba2-251a050fcd7b"
      },
      "execution_count": null,
      "outputs": [
        {
          "output_type": "display_data",
          "data": {
            "text/plain": [
              "<Figure size 640x480 with 1 Axes>"
            ],
            "image/png": "[encoded data removed]"
          },
          "metadata": {}
        }
      ]
    },
    {
      "cell_type": "code",
      "source": [
        "import numpy as np\n",
        "\n",
        "# Dados: temperaturas médias diárias em Celsius (7 dias)\n",
        "temperaturas_c = np.array([22.5, 24.0, 19.3, 25.1, 27.8, 23.4, 20.6])\n",
        "\n",
        "# 1. Converter para Fahrenheit (F = C * 9/5 + 32)\n",
        "temperaturas_f = temperaturas_c * 9/5 + 32\n",
        "print(\"Temperaturas em Fahrenheit:\", temperaturas_f)\n",
        "\n",
        "# 2. Estatísticas básicas\n",
        "print(\"Média:\", np.mean(temperaturas_c))\n",
        "print(\"Mediana:\", np.median(temperaturas_c))\n",
        "print(\"Desvio padrão:\", np.std(temperaturas_c))\n",
        "\n",
        "# 3. Filtrar temperaturas > 23°C\n",
        "filtro = temperaturas_c > 23\n",
        "print(\"Dias quentes (>23°C):\", temperaturas_c[filtro])\n",
        "\n",
        "# 4. Variação entre dias consecutivos\n",
        "variacoes = np.diff(temperaturas_c)\n",
        "print(\"Variações diárias:\", variacoes)"
      ],
      "metadata": {
        "colab": {
          "base_uri": "https://localhost:8080/"
        },
        "id": "hCYBsLWlU4N3",
        "outputId": "4027f882-b342-4291-8945-6b0cf95ea632"
      },
      "execution_count": null,
      "outputs": [
        {
          "output_type": "stream",
          "name": "stdout",
          "text": [
            "Temperaturas em Fahrenheit: [72.5  75.2  66.74 77.18 82.04 74.12 69.08]\n",
            "Média: 23.24285714285714\n",
            "Mediana: 23.4\n",
            "Desvio padrão: 2.6158075195992225\n",
            "Dias quentes (>23°C): [24.  25.1 27.8 23.4]\n",
            "Variações diárias: [ 1.5 -4.7  5.8  2.7 -4.4 -2.8]\n"
          ]
        }
      ]
    },
    {
      "cell_type": "code",
      "source": [
        "# Trabalhando com uma planilha .csv ou .txt\n",
        "# faça o upload do arquivo \"10variantesexemplo.txt\"\n",
        "planilha = pd.read_csv(\"10variantesexemplo.txt\", sep = '\\t')\n",
        "print(planilha)"
      ],
      "metadata": {
        "colab": {
          "base_uri": "https://localhost:8080/"
        },
        "id": "Iddh15VCJOHp",
        "outputId": "f2aeeb6e-c89e-4a7f-ef2e-07e6a484c894"
      },
      "execution_count": null,
      "outputs": [
        {
          "output_type": "stream",
          "name": "stdout",
          "text": [
            "   #Uploaded_variation               Location Allele  \\\n",
            "0       1:11796321:C:T    1:11796322-11796322      T   \n",
            "1       1:11796321:C:T    1:11796322-11796322      T   \n",
            "2       1:11796321:C:T    1:11796322-11796322      T   \n",
            "3       1:11796321:C:T    1:11796322-11796322      T   \n",
            "4       1:11796321:C:T    1:11796322-11796322      T   \n",
            "..                 ...                    ...    ...   \n",
            "80     6:154039662:A:G  6:154039663-154039663      G   \n",
            "81     6:154039662:A:G  6:154039663-154039663      G   \n",
            "82     6:154039662:A:G  6:154039663-154039663      G   \n",
            "83     6:154039662:A:G  6:154039663-154039663      G   \n",
            "84     6:154039662:A:G  6:154039663-154039663      G   \n",
            "\n",
            "                           Consequence    IMPACT SYMBOL             Gene  \\\n",
            "0                     missense_variant  MODERATE  MTHFR  ENSG00000177000   \n",
            "1                     missense_variant  MODERATE  MTHFR  ENSG00000177000   \n",
            "2                     missense_variant  MODERATE  MTHFR  ENSG00000177000   \n",
            "3                     missense_variant  MODERATE  MTHFR  ENSG00000177000   \n",
            "4                     missense_variant  MODERATE  MTHFR  ENSG00000177000   \n",
            "..                                 ...       ...    ...              ...   \n",
            "80  non_coding_transcript_exon_variant  MODIFIER  OPRM1             4988   \n",
            "81  non_coding_transcript_exon_variant  MODIFIER  OPRM1             4988   \n",
            "82  non_coding_transcript_exon_variant  MODIFIER  OPRM1             4988   \n",
            "83                    missense_variant  MODERATE  OPRM1             4988   \n",
            "84                    missense_variant  MODERATE  OPRM1             4988   \n",
            "\n",
            "   Feature_type            Feature         BIOTYPE  ... SpliceAI_pred_DP_AG  \\\n",
            "0    Transcript  ENST00000376486.3  protein_coding  ...                 -21   \n",
            "1    Transcript  ENST00000376583.7  protein_coding  ...                 -21   \n",
            "2    Transcript  ENST00000376585.6  protein_coding  ...                 -21   \n",
            "3    Transcript  ENST00000376590.9  protein_coding  ...                 -21   \n",
            "4    Transcript  ENST00000376592.6  protein_coding  ...                 -21   \n",
            "..          ...                ...             ...  ...                 ...   \n",
            "80   Transcript        NR_104349.1        misc_RNA  ...                 -45   \n",
            "81   Transcript        NR_104350.1        misc_RNA  ...                 -45   \n",
            "82   Transcript        NR_104351.1        misc_RNA  ...                 -45   \n",
            "83   Transcript     XM_017010907.3  protein_coding  ...                 -45   \n",
            "84   Transcript     XM_047418837.1  protein_coding  ...                 -45   \n",
            "\n",
            "   SpliceAI_pred_DP_AL SpliceAI_pred_DP_DG SpliceAI_pred_DP_DL  \\\n",
            "0                   50                  13                  -4   \n",
            "1                   50                  13                  -4   \n",
            "2                   50                  13                  -4   \n",
            "3                   50                  13                  -4   \n",
            "4                   50                  13                  -4   \n",
            "..                 ...                 ...                 ...   \n",
            "80                  -6                   1                  17   \n",
            "81                  -6                   1                  17   \n",
            "82                  -6                   1                  17   \n",
            "83                  -6                   1                  17   \n",
            "84                  -6                   1                  17   \n",
            "\n",
            "   SpliceAI_pred_DS_AG SpliceAI_pred_DS_AL SpliceAI_pred_DS_DG  \\\n",
            "0                 0.00                0.00                0.00   \n",
            "1                 0.00                0.00                0.00   \n",
            "2                 0.00                0.00                0.00   \n",
            "3                 0.00                0.00                0.00   \n",
            "4                 0.00                0.00                0.00   \n",
            "..                 ...                 ...                 ...   \n",
            "80                0.00                0.00                0.00   \n",
            "81                0.00                0.00                0.00   \n",
            "82                0.00                0.00                0.00   \n",
            "83                0.00                0.00                0.00   \n",
            "84                0.00                0.00                0.00   \n",
            "\n",
            "   SpliceAI_pred_DS_DL SpliceAI_pred_SYMBOL Mastermind_MMID3  \n",
            "0                 0.00                MTHFR      MTHFR:A222T  \n",
            "1                 0.00                MTHFR                -  \n",
            "2                 0.00                MTHFR                -  \n",
            "3                 0.00                MTHFR      MTHFR:A222T  \n",
            "4                 0.00                MTHFR      MTHFR:A222T  \n",
            "..                 ...                  ...              ...  \n",
            "80                0.00                OPRM1                -  \n",
            "81                0.00                OPRM1                -  \n",
            "82                0.00                OPRM1                -  \n",
            "83                0.00                OPRM1                -  \n",
            "84                0.00                OPRM1                -  \n",
            "\n",
            "[85 rows x 92 columns]\n"
          ]
        }
      ]
    },
    {
      "cell_type": "code",
      "source": [
        "# nome das colunas\n",
        "print(planilha.columns)"
      ],
      "metadata": {
        "colab": {
          "base_uri": "https://localhost:8080/"
        },
        "id": "h-_f3JJUP_yf",
        "outputId": "f8c4934f-0e1a-4865-f2a4-0b0488b9d606"
      },
      "execution_count": null,
      "outputs": [
        {
          "output_type": "stream",
          "name": "stdout",
          "text": [
            "Index(['#Uploaded_variation', 'Location', 'Allele', 'Consequence', 'IMPACT',\n",
            "       'SYMBOL', 'Gene', 'Feature_type', 'Feature', 'BIOTYPE', 'EXON',\n",
            "       'INTRON', 'HGVSc', 'HGVSp', 'cDNA_position', 'CDS_position',\n",
            "       'Protein_position', 'Amino_acids', 'Codons', 'Existing_variation',\n",
            "       'REF_ALLELE', 'UPLOADED_ALLELE', 'DISTANCE', 'STRAND', 'FLAGS',\n",
            "       'SYMBOL_SOURCE', 'HGNC_ID', 'MANE', 'MANE_SELECT', 'MANE_PLUS_CLINICAL',\n",
            "       'TSL', 'APPRIS', 'CCDS', 'ENSP', 'SWISSPROT', 'TREMBL', 'UNIPARC',\n",
            "       'UNIPROT_ISOFORM', 'REFSEQ_MATCH', 'SOURCE', 'REFSEQ_OFFSET',\n",
            "       'GIVEN_REF', 'USED_REF', 'BAM_EDIT', 'SIFT', 'PolyPhen', 'DOMAINS',\n",
            "       'HGVS_OFFSET', 'AF', 'CLIN_SIG', 'SOMATIC', 'PHENO', 'PUBMED',\n",
            "       'MOTIF_NAME', 'MOTIF_POS', 'HIGH_INF_POS', 'MOTIF_SCORE_CHANGE',\n",
            "       'TRANSCRIPTION_FACTORS', 'DisGeNET', 'BayesDel_addAF_rankscore',\n",
            "       'am_class', 'am_pathogenicity', 'BLOSUM62', 'PHENOTYPES', 'EVE_CLASS',\n",
            "       'EVE_SCORE', 'ada_score', 'rf_score', 'REVEL', 'LOEUF', 'AA',\n",
            "       'Geno2MP_HPO_count', 'Geno2MP_URL', 'MaxEntScan_alt', 'MaxEntScan_diff',\n",
            "       'MaxEntScan_ref', 'mutfunc_exp', 'mutfunc_int', 'mutfunc_mod',\n",
            "       'mutfunc_motif', 'ClinPred', 'GO', 'SpliceAI_pred_DP_AG',\n",
            "       'SpliceAI_pred_DP_AL', 'SpliceAI_pred_DP_DG', 'SpliceAI_pred_DP_DL',\n",
            "       'SpliceAI_pred_DS_AG', 'SpliceAI_pred_DS_AL', 'SpliceAI_pred_DS_DG',\n",
            "       'SpliceAI_pred_DS_DL', 'SpliceAI_pred_SYMBOL', 'Mastermind_MMID3'],\n",
            "      dtype='object')\n"
          ]
        }
      ]
    },
    {
      "cell_type": "code",
      "source": [
        "# quantidade de linhas\n",
        "print(len(planilha))"
      ],
      "metadata": {
        "colab": {
          "base_uri": "https://localhost:8080/"
        },
        "id": "QeeM77LfQJig",
        "outputId": "ea0e7cce-987e-4676-fa18-a627aca25d10"
      },
      "execution_count": null,
      "outputs": [
        {
          "output_type": "stream",
          "name": "stdout",
          "text": [
            "85\n"
          ]
        }
      ]
    },
    {
      "cell_type": "code",
      "source": [
        "# printar somente a coluna 'REVEL'\n",
        "print(planilha[\"IMPACT\"])"
      ],
      "metadata": {
        "colab": {
          "base_uri": "https://localhost:8080/"
        },
        "id": "R1f8ZpNNQSTL",
        "outputId": "1775088f-7b5a-4a2a-a935-05f45f52aff6"
      },
      "execution_count": null,
      "outputs": [
        {
          "output_type": "stream",
          "name": "stdout",
          "text": [
            "0     MODERATE\n",
            "1     MODERATE\n",
            "2     MODERATE\n",
            "3     MODERATE\n",
            "4     MODERATE\n",
            "        ...   \n",
            "80    MODIFIER\n",
            "81    MODIFIER\n",
            "82    MODIFIER\n",
            "83    MODERATE\n",
            "84    MODERATE\n",
            "Name: IMPACT, Length: 85, dtype: object\n"
          ]
        }
      ]
    },
    {
      "cell_type": "code",
      "source": [
        "print(planilha[\"PolyPhen\"])"
      ],
      "metadata": {
        "colab": {
          "base_uri": "https://localhost:8080/"
        },
        "id": "8qe_ictJRPrD",
        "outputId": "7adadff8-eeb5-43ec-d946-4a9d15b7dc23"
      },
      "execution_count": null,
      "outputs": [
        {
          "output_type": "stream",
          "name": "stdout",
          "text": [
            "0      probably_damaging(0.99)\n",
            "1     probably_damaging(0.966)\n",
            "2     probably_damaging(0.966)\n",
            "3      probably_damaging(0.99)\n",
            "4      probably_damaging(0.99)\n",
            "                ...           \n",
            "80                           -\n",
            "81                           -\n",
            "82                           -\n",
            "83                           -\n",
            "84                           -\n",
            "Name: PolyPhen, Length: 85, dtype: object\n"
          ]
        }
      ]
    },
    {
      "cell_type": "code",
      "source": [
        "print(planilha[\"PolyPhen\"].unique())"
      ],
      "metadata": {
        "colab": {
          "base_uri": "https://localhost:8080/"
        },
        "id": "vmJ98hVtRyAf",
        "outputId": "668f8147-d4d5-4a65-cf36-5423b7ce3a75"
      },
      "execution_count": null,
      "outputs": [
        {
          "output_type": "stream",
          "name": "stdout",
          "text": [
            "['probably_damaging(0.99)' 'probably_damaging(0.966)' '-' 'benign(0.213)'\n",
            " 'benign(0.161)' 'benign(0.011)' 'benign(0.005)' 'benign(0.039)'\n",
            " 'possibly_damaging(0.55)' 'benign(0.026)' 'benign(0.066)' 'benign(0.007)'\n",
            " 'benign(0.29)' 'possibly_damaging(0.726)' 'probably_damaging(0.995)'\n",
            " 'possibly_damaging(0.884)']\n"
          ]
        }
      ]
    },
    {
      "cell_type": "code",
      "source": [
        "print(planilha.loc[planilha['PolyPhen'].str.contains('damaging', na=False), '#Uploaded_variation'])"
      ],
      "metadata": {
        "colab": {
          "base_uri": "https://localhost:8080/"
        },
        "id": "e8sC-ZvbSRvu",
        "outputId": "9e0894c0-80d2-4304-faef-b80c2b7b85b3"
      },
      "execution_count": null,
      "outputs": [
        {
          "output_type": "stream",
          "name": "stdout",
          "text": [
            "0      1:11796321:C:T\n",
            "1      1:11796321:C:T\n",
            "2      1:11796321:C:T\n",
            "3      1:11796321:C:T\n",
            "4      1:11796321:C:T\n",
            "17     1:11796321:C:T\n",
            "19     1:11796321:C:T\n",
            "20     1:11796321:C:T\n",
            "25     1:11796321:C:T\n",
            "50    6:154039662:A:G\n",
            "51    6:154039662:A:G\n",
            "58    6:154039662:A:G\n",
            "62    6:154039662:A:G\n",
            "73    6:154039662:A:G\n",
            "75    6:154039662:A:G\n",
            "76    6:154039662:A:G\n",
            "Name: #Uploaded_variation, dtype: object\n"
          ]
        }
      ]
    },
    {
      "cell_type": "code",
      "source": [
        "damaging = planilha.loc[planilha['PolyPhen'].str.contains('damaging', na=False)].copy()\n",
        "#print(damaging)\n",
        "print(damaging[\"PolyPhen\"])"
      ],
      "metadata": {
        "colab": {
          "base_uri": "https://localhost:8080/"
        },
        "id": "Gm7W02VCSr2B",
        "outputId": "803cb860-d5d3-4404-d8de-01a569073423"
      },
      "execution_count": null,
      "outputs": [
        {
          "output_type": "stream",
          "name": "stdout",
          "text": [
            "0      probably_damaging(0.99)\n",
            "1     probably_damaging(0.966)\n",
            "2     probably_damaging(0.966)\n",
            "3      probably_damaging(0.99)\n",
            "4      probably_damaging(0.99)\n",
            "17    probably_damaging(0.966)\n",
            "19     probably_damaging(0.99)\n",
            "20     probably_damaging(0.99)\n",
            "25     probably_damaging(0.99)\n",
            "50     possibly_damaging(0.55)\n",
            "51     possibly_damaging(0.55)\n",
            "58    possibly_damaging(0.726)\n",
            "62    probably_damaging(0.995)\n",
            "73     possibly_damaging(0.55)\n",
            "75     possibly_damaging(0.55)\n",
            "76    possibly_damaging(0.884)\n",
            "Name: PolyPhen, dtype: object\n"
          ]
        }
      ]
    },
    {
      "cell_type": "code",
      "source": [
        "damaging_filtered = damaging[['#Uploaded_variation', 'AF', 'Consequence', 'PolyPhen', 'AF']].copy()\n",
        "print(damaging_filtered)"
      ],
      "metadata": {
        "colab": {
          "base_uri": "https://localhost:8080/"
        },
        "id": "Ol5PubkcXjO2",
        "outputId": "194a5529-acad-409d-ad23-90fb11409278"
      },
      "execution_count": null,
      "outputs": [
        {
          "output_type": "stream",
          "name": "stdout",
          "text": [
            "   #Uploaded_variation AF                              Consequence  \\\n",
            "0       1:11796321:C:T  -                         missense_variant   \n",
            "1       1:11796321:C:T  -                         missense_variant   \n",
            "2       1:11796321:C:T  -                         missense_variant   \n",
            "3       1:11796321:C:T  -                         missense_variant   \n",
            "4       1:11796321:C:T  -                         missense_variant   \n",
            "17      1:11796321:C:T  -                         missense_variant   \n",
            "19      1:11796321:C:T  -                         missense_variant   \n",
            "20      1:11796321:C:T  -                         missense_variant   \n",
            "25      1:11796321:C:T  -                         missense_variant   \n",
            "50     6:154039662:A:G  -                         missense_variant   \n",
            "51     6:154039662:A:G  -                         missense_variant   \n",
            "58     6:154039662:A:G  -                         missense_variant   \n",
            "62     6:154039662:A:G  -  missense_variant,NMD_transcript_variant   \n",
            "73     6:154039662:A:G  -                         missense_variant   \n",
            "75     6:154039662:A:G  -                         missense_variant   \n",
            "76     6:154039662:A:G  -                         missense_variant   \n",
            "\n",
            "                    PolyPhen AF  \n",
            "0    probably_damaging(0.99)  -  \n",
            "1   probably_damaging(0.966)  -  \n",
            "2   probably_damaging(0.966)  -  \n",
            "3    probably_damaging(0.99)  -  \n",
            "4    probably_damaging(0.99)  -  \n",
            "17  probably_damaging(0.966)  -  \n",
            "19   probably_damaging(0.99)  -  \n",
            "20   probably_damaging(0.99)  -  \n",
            "25   probably_damaging(0.99)  -  \n",
            "50   possibly_damaging(0.55)  -  \n",
            "51   possibly_damaging(0.55)  -  \n",
            "58  possibly_damaging(0.726)  -  \n",
            "62  probably_damaging(0.995)  -  \n",
            "73   possibly_damaging(0.55)  -  \n",
            "75   possibly_damaging(0.55)  -  \n",
            "76  possibly_damaging(0.884)  -  \n"
          ]
        }
      ]
    },
    {
      "cell_type": "code",
      "source": [
        "damaging_filtered.to_csv(\"damaging_filtered.txt\", sep= \"\\t\")"
      ],
      "metadata": {
        "id": "s-YSISHUWj81"
      },
      "execution_count": null,
      "outputs": []
    }
  ]
}